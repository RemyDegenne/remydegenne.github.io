{
 "cells": [
  {
   "cell_type": "markdown",
   "id": "62bd3d18",
   "metadata": {},
   "source": [
    "# Visualisation de la fonction apprise par un MLP"
   ]
  },
  {
   "cell_type": "markdown",
   "id": "e90a8f80",
   "metadata": {},
   "source": [
    "Documentation des librairies utilisées dans ce tp:\n",
    "- scikit-learn: [https://scikit-learn.org/stable/index.html](https://scikit-learn.org/stable/index.html)\n",
    "- matplotlib: [https://matplotlib.org/](https://matplotlib.org/)\n",
    "- numpy: [https://numpy.org/](https://numpy.org/)\n",
    "\n",
    "Instructions d'installation dans un environnement conda, si vous voulez utiliser votre propre ordinateur (inutile de suivre ces instructions sur les machines de la salle info).\n",
    "\n",
    "- Créer un nouvel environnement, appelé `sd3` (vous avez besoin d'avoir anaconda ou miniconda installé)\n",
    "```\n",
    "conda create -n sd3 python=3.9\n",
    "```\n",
    "- Activer l'environnement\n",
    "```\n",
    "conda activate sd3\n",
    "```\n",
    "- Installer les librairies requises\n",
    "```\n",
    "conda install -c conda-forge jupyterlab matplotlib scikit-learn\n",
    "```"
   ]
  },
  {
   "cell_type": "code",
   "execution_count": null,
   "id": "6b0e34e8",
   "metadata": {},
   "outputs": [],
   "source": [
    "import numpy as np\n",
    "import matplotlib.pyplot as plt\n",
    "\n",
    "from matplotlib.colors import ListedColormap\n",
    "\n",
    "from sklearn.neighbors import KNeighborsClassifier\n",
    "from sklearn.linear_model import Perceptron, SGDClassifier\n",
    "from sklearn.neural_network import MLPClassifier\n",
    "\n",
    "from sklearn.datasets import load_digits, make_classification, fetch_openml, make_moons, make_circles, make_blobs\n",
    "from sklearn.model_selection import train_test_split, GridSearchCV, RandomizedSearchCV\n",
    "from sklearn.metrics import classification_report\n",
    "from sklearn.utils import shuffle\n",
    "from sklearn.inspection import DecisionBoundaryDisplay"
   ]
  },
  {
   "cell_type": "markdown",
   "id": "749775f5",
   "metadata": {},
   "source": [
    "### Datasets\n",
    "\n",
    "On va visualiser la séparation des données entre plusieurs classes. Pour obtenir des dessins faciles à comprendre, on considère des données en 2 dimensions.\n",
    "On charge trois datasets différents:"
   ]
  },
  {
   "cell_type": "code",
   "execution_count": null,
   "id": "12a3d1e3",
   "metadata": {},
   "outputs": [],
   "source": [
    "Xm, Ym = make_moons(n_samples=300, noise=0.3, random_state=0)\n",
    "Xc, Yc = make_circles(n_samples=300, noise=0.3, factor=0.5, random_state=0)\n",
    "Xb, Yb = make_blobs(n_samples=300, random_state=0)"
   ]
  },
  {
   "cell_type": "markdown",
   "id": "c03e14a7",
   "metadata": {},
   "source": [
    "Couper chaque dataset en deux pour obtenir un ensemble d'entrainement/validation et un ensemble de test (30% des exemples)."
   ]
  },
  {
   "cell_type": "code",
   "execution_count": null,
   "id": "11983dbe",
   "metadata": {},
   "outputs": [],
   "source": []
  },
  {
   "cell_type": "markdown",
   "id": "caf417e8",
   "metadata": {},
   "source": [
    "On définit des couleurs pour les plots:"
   ]
  },
  {
   "cell_type": "code",
   "execution_count": null,
   "id": "7b32a270",
   "metadata": {},
   "outputs": [],
   "source": [
    "cm = plt.cm.RdBu\n",
    "cm_bright = ListedColormap([\"#FF0000\", \"#0000FF\"])"
   ]
  },
  {
   "cell_type": "markdown",
   "id": "cc71de30",
   "metadata": {},
   "source": [
    "Sur un même graphique, afficher les données d'entrainement et de test, à l'aide de la fonction `scatter`. La couleur du point sera donnée par sa classe (utiliser l'argument `c=...`). Afficher les données de test d'une manière légèrement différente (par exemple ajouter de la transparence avec l'argument `alpha` ou changer la couleur du bord avec `edgecolors`).\n",
    "\n",
    "Répéter l'opération pour les trois datasets."
   ]
  },
  {
   "cell_type": "code",
   "execution_count": null,
   "id": "72a396a4",
   "metadata": {},
   "outputs": [],
   "source": []
  },
  {
   "cell_type": "markdown",
   "id": "9e9fe18f",
   "metadata": {},
   "source": [
    "### Classeurs\n",
    "\n",
    "Définir un k-NN avec k=3.\n",
    "\n",
    "Définir un perceptron multi couches (MLP) avec trois couches de 20, 15 et 7 neurones, une fonction d'activation relu et une méthode d'optimisation `sgd`."
   ]
  },
  {
   "cell_type": "code",
   "execution_count": null,
   "id": "0c3a48f5",
   "metadata": {},
   "outputs": [],
   "source": []
  },
  {
   "cell_type": "markdown",
   "id": "40288a3b",
   "metadata": {},
   "source": [
    "Pour chaque dataset, entrainer le kNN et le MLP. Calculer leur score de test."
   ]
  },
  {
   "cell_type": "code",
   "execution_count": null,
   "id": "1b2f850e",
   "metadata": {},
   "outputs": [],
   "source": []
  },
  {
   "cell_type": "markdown",
   "id": "7b710c53",
   "metadata": {},
   "source": [
    "La fonction `DecisionBoundaryDisplay.from_estimator(clf, X, cmap=cm, alpha=0.6, ax=ax)` permet d'ajouter à la figure donnée par `ax` des zones de couleurs correspondant aux classes prédites par le classeur `clf`. La limite entre les zones correspondant aux deux classes s'appelle \"frontière de décision\".\n",
    "L'arguments `cmap` donne la couleur des zones, `alpha` indique la transparence.\n",
    "\n",
    "Afficher ces zones de couleur sur le même graphique que les données, pour chaque dataset et pour chacun des deux classeurs.\n",
    "\n",
    "Suggestion: pour éviter de copier du code 6 fois, écrire une fonction qui prend en entrée les données et le classeur."
   ]
  },
  {
   "cell_type": "code",
   "execution_count": null,
   "id": "31944673",
   "metadata": {},
   "outputs": [],
   "source": []
  },
  {
   "cell_type": "markdown",
   "id": "802be097",
   "metadata": {},
   "source": [
    "Décrire qualitativement la différence entre la frontière de décision apprise par un k-NN et celle d'un MLP"
   ]
  },
  {
   "cell_type": "code",
   "execution_count": null,
   "id": "adc5a6f0",
   "metadata": {},
   "outputs": [],
   "source": []
  },
  {
   "cell_type": "markdown",
   "id": "55f6a2c1",
   "metadata": {},
   "source": [
    "### Structures de réseaux de neurones\n",
    "\n",
    "Afficher la frontière de décision pour un réseau de neurone avec 1 neurone dans la première couche. Essayer plusieurs nombres de couches, mais toujours avec 1 seul neurone dans la première. Qu'observez vous ?"
   ]
  },
  {
   "cell_type": "code",
   "execution_count": null,
   "id": "8cfc31da",
   "metadata": {},
   "outputs": [],
   "source": []
  },
  {
   "cell_type": "markdown",
   "id": "88131389",
   "metadata": {},
   "source": [
    "Faire varier le nombre de neurones dans chaque couche et observer l'effet sur la frontière de décision."
   ]
  },
  {
   "cell_type": "code",
   "execution_count": null,
   "id": "2a59caea",
   "metadata": {},
   "outputs": [],
   "source": []
  },
  {
   "cell_type": "markdown",
   "id": "71aa7139",
   "metadata": {},
   "source": [
    "### Recherche d'hyper-paramètres\n",
    "\n",
    "Rappel des arguments importants d'un MLP:\n",
    "\n",
    "`hidden_layer_sizes=(15,10,)` indique le nombre de neurones dans chaque couche cachée du réseau de neurones. Ici deux couches cachées, avec respectivement 15 et 10 neurones.\n",
    "\n",
    "`activation` décide la fonction d'activation de chaque neurone.\n",
    "\n",
    "`solver` indique la méthode d'apprentissage des poids. `sgd` = descente de gradient stochastique.\n",
    "\n",
    "`learning_rate` donne la méthode pour faire varier le pas de gradient. Le cours décrit le résultat de la valeur `constant`.\n",
    "\n",
    "`learning_rate_init` indique la taille de chaque pas de gradient dans la méthode des gradients stochastiques.\n",
    "\n",
    "`max_iter` donne le nombre maximal d'époques de descente de gradient pour l'apprentissage des poids.\n",
    "\n",
    "On peut obtenir la liste complète des paramètres d'un MLP `mlp` en utilisant `mlp.get_params()`.\n",
    "\n",
    "**Méthodes de recherche d'hyper-paramètres et de validation**:\n",
    "\n",
    "`GridSearchCV` et `RandomizedSearchCV` implémentent respectivement une validation croisée avec une recherche sur grille et une recherche aléatoire.\n",
    "\n",
    "Les valeurs des paramètres sur lesquelles on fait la recherche doivent être passées comme une liste de dict:\n",
    "```\n",
    "tuned_parameters = [{'learning_rate_init': [0.0001, 0.001, 0.01], 'hidden_layer_sizes': [(1,), (10,), (15,)],}]\n",
    "```\n",
    "\n",
    "La méthode `fit` permet de faire la recherche. L'argument `n_iter ` de `RandomizedSearchCV` indique le nombre de configurations aléatoires à essayer. A l'issue de fit, le classeur est entrainé avec les meilleurs paramètres trouvés. \n",
    "les résultats de la recherche sont contenus dans `cv_results_`\n",
    "\n",
    "Utiliser ces fonctions de recherche d'hyper-paramètres pour trouver un MLP performant sur les données. Afficher sa frontière de décision. Afficher son `classification_report`.\n",
    "\n",
    "Le code suivant peut aussi fournir une visualisation utile de la recherche d'hyper-paramètres:\n",
    "```\n",
    "means = clf.cv_results_['mean_test_score']\n",
    "stds = clf.cv_results_['std_test_score']\n",
    "for mean, std, params in zip(means, stds, clf.cv_results_['params']):\n",
    "    print(\"%0.3f (+/-%0.03f) for %r\" % (mean, std * 2, params))\n",
    "```"
   ]
  },
  {
   "cell_type": "code",
   "execution_count": null,
   "id": "66b50da1",
   "metadata": {},
   "outputs": [],
   "source": []
  },
  {
   "cell_type": "markdown",
   "id": "0088f3e4",
   "metadata": {},
   "source": [
    "Afficher le score de la meilleure solution obtenue avec `RandomizedSearchCV` en fonction de `n_iter`."
   ]
  },
  {
   "cell_type": "code",
   "execution_count": null,
   "id": "0041d4fe",
   "metadata": {},
   "outputs": [],
   "source": []
  },
  {
   "cell_type": "code",
   "execution_count": null,
   "id": "94707b93",
   "metadata": {},
   "outputs": [],
   "source": []
  }
 ],
 "metadata": {
  "kernelspec": {
   "display_name": "Python 3 (ipykernel)",
   "language": "python",
   "name": "python3"
  },
  "language_info": {
   "codemirror_mode": {
    "name": "ipython",
    "version": 3
   },
   "file_extension": ".py",
   "mimetype": "text/x-python",
   "name": "python",
   "nbconvert_exporter": "python",
   "pygments_lexer": "ipython3",
   "version": "3.9.16"
  }
 },
 "nbformat": 4,
 "nbformat_minor": 5
}
