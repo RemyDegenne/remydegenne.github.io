{
 "cells": [
  {
   "cell_type": "markdown",
   "id": "62bd3d18",
   "metadata": {},
   "source": [
    "# Perceptron et réseaux de neurones"
   ]
  },
  {
   "cell_type": "markdown",
   "id": "e90a8f80",
   "metadata": {},
   "source": [
    "Documentation des librairies utilisées dans ce tp:\n",
    "- scikit-learn: [https://scikit-learn.org/stable/index.html](https://scikit-learn.org/stable/index.html)\n",
    "- matplotlib: [https://matplotlib.org/](https://matplotlib.org/)\n",
    "- numpy: [https://numpy.org/](https://numpy.org/)\n",
    "\n",
    "Instructions d'installation dans un environnement conda, si vous voulez utiliser votre propre ordinateur (inutile de suivre ces instructions sur les machines de la salle info).\n",
    "\n",
    "- Créer un nouvel environnement, appelé `sd3` (vous avez besoin d'avoir anaconda ou miniconda installé)\n",
    "```\n",
    "conda create -n sd3 python=3.9\n",
    "```\n",
    "- Activer l'environnement\n",
    "```\n",
    "conda activate sd3\n",
    "```\n",
    "- Installer les librairies requises\n",
    "```\n",
    "conda install -c conda-forge jupyterlab matplotlib scikit-learn\n",
    "```"
   ]
  },
  {
   "cell_type": "code",
   "execution_count": null,
   "id": "6b0e34e8",
   "metadata": {},
   "outputs": [],
   "source": [
    "import numpy as np\n",
    "import matplotlib.pyplot as plt\n",
    "\n",
    "from sklearn.neighbors import KNeighborsClassifier\n",
    "from sklearn.linear_model import Perceptron, SGDClassifier\n",
    "from sklearn.neural_network import MLPClassifier\n",
    "\n",
    "from sklearn.datasets import load_digits, make_classification, fetch_openml\n",
    "from sklearn.model_selection import train_test_split\n",
    "from sklearn.metrics import ConfusionMatrixDisplay\n",
    "from sklearn.preprocessing import StandardScaler\n",
    "from sklearn.utils import shuffle"
   ]
  },
  {
   "cell_type": "markdown",
   "id": "584416d1",
   "metadata": {},
   "source": [
    "### Classer des chiffres"
   ]
  },
  {
   "cell_type": "markdown",
   "id": "a2dce09e",
   "metadata": {},
   "source": [
    "- Charger l'ensemble d'exemples `digits` de scikit-learn à l'aide de la fonction `load_digits`.\n",
    "- Placer les données dans un tableau `X` et les étiquettes dans un vecteur `Y`.\n",
    "- Séparer les données en un ensemble d'entrainement et un ensemble de test (40% des données) à l'aide de la fonction `train_test_split`.\n",
    "\n",
    "On pourra utiliser la fonction suivante pour observer des exemples des données qu'on vient de charger:"
   ]
  },
  {
   "cell_type": "code",
   "execution_count": null,
   "id": "3308a1a4",
   "metadata": {},
   "outputs": [],
   "source": [
    "def plot_examples(data, labels):  # données, étiquettes\n",
    "    _, axes = plt.subplots(nrows=1, ncols=4, figsize=(10, 3))\n",
    "    nb_pxl = len(data[0].flatten())\n",
    "    side_len = int(np.sqrt(nb_pxl))  # taille du côté de l'image (supposée carrée)\n",
    "    for ax, image, label in zip(axes, data, labels):\n",
    "        ax.set_axis_off()\n",
    "        image = image.reshape((side_len, side_len))\n",
    "        ax.imshow(image, cmap=plt.cm.gray_r, interpolation=\"nearest\")\n",
    "        ax.set_title(\"Label: %i\" % label)"
   ]
  },
  {
   "cell_type": "code",
   "execution_count": null,
   "id": "a1f963f9",
   "metadata": {},
   "outputs": [],
   "source": []
  },
  {
   "cell_type": "code",
   "execution_count": null,
   "id": "e70af133",
   "metadata": {},
   "outputs": [],
   "source": []
  },
  {
   "cell_type": "markdown",
   "id": "fd33614c",
   "metadata": {},
   "source": [
    "1) Que sont les données ? Et leurs étiquettes ?"
   ]
  },
  {
   "cell_type": "markdown",
   "id": "d2444e41",
   "metadata": {},
   "source": []
  },
  {
   "cell_type": "markdown",
   "id": "37781a50",
   "metadata": {},
   "source": [
    "2) Pourquoi est-ce qu'on coupe les exemples en un ensemble d'entrainement et un ensemble de test ?"
   ]
  },
  {
   "cell_type": "markdown",
   "id": "320a8456",
   "metadata": {},
   "source": []
  },
  {
   "cell_type": "markdown",
   "id": "689ce671",
   "metadata": {},
   "source": [
    "3) Combien de classes (= étiquettes différentes) dans cet ensemble d'exemples ?"
   ]
  },
  {
   "cell_type": "markdown",
   "id": "6e149b03",
   "metadata": {},
   "source": []
  },
  {
   "cell_type": "markdown",
   "id": "ccbfdd87",
   "metadata": {},
   "source": [
    "4) Est-ce que ce nombre de classes est un problème pour la classification avec un classeur des plus proches voisins ? Et pour un perceptron ?\n",
    "5) Si c'est un problème, proposer des solutions."
   ]
  },
  {
   "cell_type": "markdown",
   "id": "8b90a813",
   "metadata": {},
   "source": []
  },
  {
   "cell_type": "markdown",
   "id": "4c787149",
   "metadata": {},
   "source": [
    "6) Construire un classeur k-NN avec k=5 et calculer son taux d'erreur sur l'ensemble de test. Rappel: utiliser `KNeighborsClassifier`."
   ]
  },
  {
   "cell_type": "code",
   "execution_count": null,
   "id": "c0ac7cdf",
   "metadata": {},
   "outputs": [],
   "source": []
  },
  {
   "cell_type": "markdown",
   "id": "ec3da39b",
   "metadata": {},
   "source": [
    "La fonction suivante permet d'afficher une matrice de confusion pour un ensemble d'étiquettes `Y` et de prédictions `pred`. La case de la ligne $i$ et colonne $j$ de la matrice représente le nombre de fois où une donnée d'étiquette $i$ (dans `Y`) correspond à une prédiction $j$ dans `pred`."
   ]
  },
  {
   "cell_type": "code",
   "execution_count": null,
   "id": "28e0846f",
   "metadata": {},
   "outputs": [],
   "source": [
    "def plot_confusion_matrix(Y, pred):\n",
    "    disp = ConfusionMatrixDisplay.from_predictions(Y, pred)\n",
    "    disp.figure_.suptitle(\"Confusion Matrix\")\n",
    "    plt.show()"
   ]
  },
  {
   "cell_type": "markdown",
   "id": "b1a54740",
   "metadata": {},
   "source": [
    "7) Afficher la matrice de confusion pour le k-NN entrainé précédemment. "
   ]
  },
  {
   "cell_type": "code",
   "execution_count": null,
   "id": "0bbef07b",
   "metadata": {},
   "outputs": [],
   "source": []
  },
  {
   "cell_type": "markdown",
   "id": "674b472e",
   "metadata": {},
   "source": [
    "### Le perceptron\n",
    "\n",
    "Le perceptron est un classeur constitué d'un seul neurone, qui permet d'effectuer une classification binaire.\n",
    "\n",
    "La classe `Perceptron` de scikit-learn permet aussi de faire de la classification à $K>2$ classes : $K$ perceptrons différents sont construits, et le perceptron numéro $k$ a pour tâche de classer les données de manière binaire: il prédit soit \"classe $k$\" soit \"autre classe\". La prédiction finale est la classe $k \\in \\{1, \\ldots, K\\}$ pour laquelle le perceptron $k$ a la sortie la plus haute pour sa classe.\n",
    "\n",
    "Exemple de création d'un perceptron:"
   ]
  },
  {
   "cell_type": "code",
   "execution_count": null,
   "id": "6f7cab8f",
   "metadata": {},
   "outputs": [],
   "source": [
    "per = Perceptron(tol=0.001, max_iter=1000, shuffle=True, eta0=1.0, random_state=0)"
   ]
  },
  {
   "cell_type": "markdown",
   "id": "1690f71d",
   "metadata": {},
   "source": [
    "`tol` est un paramètre qui définit le critère d'arrêt de l'apprentissage: l'algorithme arrête de changer les poids (avec une descente de gradient) si la performance sur les données d'apprentissage ne s'améliore pas plus que `tol`.\n",
    "\n",
    "`max_iter` dicte le nombre maximal d'époques lors de la descente de gradient.\n",
    "\n",
    "`eta0` est le paramètre qui règle la taille du pas de gradient effectué à chaque étape de l'apprentissage.\n",
    "\n",
    "8) Entrainer le classeur et obtenir son score sur les données d'entrainement et de test (utiliser `per.score()`). Le taux d'erreur est $1 - \\text{score}$. Comparer au k-NN\n",
    "9) Afficher la matrice de confusion du classeur entrainé"
   ]
  },
  {
   "cell_type": "code",
   "execution_count": null,
   "id": "11daef73",
   "metadata": {},
   "outputs": [],
   "source": []
  },
  {
   "cell_type": "markdown",
   "id": "67264202",
   "metadata": {},
   "source": [
    "10) La fonction `partial_fit` permet de faire une itération de la règle d'entrainement (utiliser chaque donnée d'entrainement une fois pour changer les poids). A l'aide de cette fonction, construire un graphe du score du perceptron sur les données d'entrainement et de test au cours de l'apprentissage.\n",
    "11) Qu'observez vous sur ce graphe concernant le score d'apprentissage ? Et le score de test ?"
   ]
  },
  {
   "cell_type": "code",
   "execution_count": null,
   "id": "389ab475",
   "metadata": {},
   "outputs": [],
   "source": []
  },
  {
   "cell_type": "markdown",
   "id": "ca6edccf",
   "metadata": {},
   "source": [
    "### Le perceptron multi-couches\n",
    "\n",
    "Le perceptron multi-couches, ou réseau de neurones complètement connecté, est constitué de plusieurs couches de neurones."
   ]
  },
  {
   "cell_type": "code",
   "execution_count": null,
   "id": "7a2fbfeb",
   "metadata": {},
   "outputs": [],
   "source": [
    "mlp = MLPClassifier(\n",
    "    hidden_layer_sizes=(15,10,), activation=\"relu\",\n",
    "    solver=\"sgd\", learning_rate=\"constant\", learning_rate_init=0.001,\n",
    "    max_iter=2000, verbose=False)"
   ]
  },
  {
   "cell_type": "markdown",
   "id": "71aa7139",
   "metadata": {},
   "source": [
    "`hidden\\_layer\\_sizes=(15,10,)` indique le nombre de neurones dans chaque couche cachée du réseau de neurones.\n",
    "\n",
    "`activation` décide la fonction d'activation de chaque neurone.\n",
    "\n",
    "`solver` indique la méthode d'apprentissage des poids. \"sgd\" = descente de gradient stochastique.\n",
    "\n",
    "`learning_rate_init` indique la taille de chaque pas de gradient dans la méthode des gradients stochastiques."
   ]
  },
  {
   "cell_type": "markdown",
   "id": "98d08abe",
   "metadata": {},
   "source": [
    "12) Entrainer le classeur et obtenir son score sur les données d'entrainement et de test."
   ]
  },
  {
   "cell_type": "code",
   "execution_count": null,
   "id": "a0d00b5e",
   "metadata": {},
   "outputs": [],
   "source": []
  },
  {
   "cell_type": "markdown",
   "id": "2b84f136",
   "metadata": {},
   "source": [
    "13) Afficher la matrice de confusion du classeur. Comparer avec le perceptron."
   ]
  },
  {
   "cell_type": "code",
   "execution_count": null,
   "id": "1c4b4cc2",
   "metadata": {},
   "outputs": [],
   "source": []
  },
  {
   "cell_type": "markdown",
   "id": "8370fa42",
   "metadata": {},
   "source": [
    "14) Tracer une courbe des erreurs d'entrainement et de test au fil de l'apprentissage, comme effectué pour le perceptron plus haut."
   ]
  },
  {
   "cell_type": "code",
   "execution_count": null,
   "id": "c1ca4e29",
   "metadata": {},
   "outputs": [],
   "source": []
  },
  {
   "cell_type": "markdown",
   "id": "12f73ae7",
   "metadata": {},
   "source": [
    "15) Essayer plusieurs architectures (valeurs de `hidden_layer_sizes`)."
   ]
  },
  {
   "cell_type": "code",
   "execution_count": null,
   "id": "ce948680",
   "metadata": {},
   "outputs": [],
   "source": []
  },
  {
   "cell_type": "markdown",
   "id": "0ce795f4",
   "metadata": {},
   "source": [
    "16) Faire varier `learning_rate_init` et observer l'effet sur l'apprentissage."
   ]
  },
  {
   "cell_type": "code",
   "execution_count": null,
   "id": "1a778136",
   "metadata": {},
   "outputs": [],
   "source": []
  },
  {
   "cell_type": "markdown",
   "id": "440a25a5",
   "metadata": {},
   "source": [
    "17) Changer le paramètre `learning_rate`: essayer les valeurs `adaptive` et `invscaling`. Chercher dans la documentation ce que veulent dire ces paramètres."
   ]
  },
  {
   "cell_type": "code",
   "execution_count": null,
   "id": "c8c8f4af",
   "metadata": {},
   "outputs": [],
   "source": []
  },
  {
   "cell_type": "markdown",
   "id": "cfbb3591",
   "metadata": {},
   "source": [
    "### Données MNIST\n",
    "\n",
    "On va utiliser ici le jeu de données MNIST, qui contient des images de chiffres écrits à la main, représentés par des images en nuances de gris de 28x28 pixels.\n",
    "On peut obtenir ces données grâce au code écrit dans la cellule suivante.\n",
    "L'obtention du jeu de données peut prendre du temps: il est conseillé de n'exécuter ce code qu'une fois."
   ]
  },
  {
   "cell_type": "code",
   "execution_count": null,
   "id": "c0a19db4",
   "metadata": {},
   "outputs": [],
   "source": [
    "mnist = fetch_openml(\"mnist_784\", version=1, as_frame=False)"
   ]
  },
  {
   "cell_type": "markdown",
   "id": "64f217ec",
   "metadata": {},
   "source": [
    "- Combien de données sont présentes dans mnist ? Combien de classes ? Afficher quelques exemples à l'aide de la fonction `plot_examples` définie plus haut.\n",
    "- Séparer l'ensemble de données en données d'entrainement et de test. Attention: l'ensemble de données est très gros. Si vous prenez toutes les données, l'apprentissage des classeurs peut être très lent. Utilisez les paramètres `train_size=..., test_size=...` de la fonction `train_test_split` pour obtenir des ensembles d'entrainement et de test de la taille voulue.\n",
    "- Entrainer un perceptron sur ces données. Quel est son score ?\n",
    "- Entrainer des MLP divers sur ces données. Est-il possible de faire mieux que le perceptron ?\n",
    "- Le code suivant permet de recentrer les valeurs des pixels autour de zéro. Est-ce que l'apprentissage d'un MLP est plus efficace après ce changement ?"
   ]
  },
  {
   "cell_type": "code",
   "execution_count": null,
   "id": "602a0517",
   "metadata": {},
   "outputs": [],
   "source": [
    "scaler = StandardScaler()\n",
    "X_train = scaler.fit_transform(X_train)\n",
    "X_test = scaler.transform(X_test)"
   ]
  }
 ],
 "metadata": {
  "kernelspec": {
   "display_name": "Python 3 (ipykernel)",
   "language": "python",
   "name": "python3"
  },
  "language_info": {
   "codemirror_mode": {
    "name": "ipython",
    "version": 3
   },
   "file_extension": ".py",
   "mimetype": "text/x-python",
   "name": "python",
   "nbconvert_exporter": "python",
   "pygments_lexer": "ipython3",
   "version": "3.9.16"
  }
 },
 "nbformat": 4,
 "nbformat_minor": 5
}
