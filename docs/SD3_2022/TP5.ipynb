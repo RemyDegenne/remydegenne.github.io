{
 "cells": [
  {
   "cell_type": "markdown",
   "id": "62bd3d18",
   "metadata": {},
   "source": [
    "# Classification avec un réseau de neurones convolutif"
   ]
  },
  {
   "cell_type": "markdown",
   "id": "e90a8f80",
   "metadata": {},
   "source": [
    "Documentation des librairies utilisées dans ce tp:\n",
    "- scikit-learn: [https://scikit-learn.org/stable/index.html](https://scikit-learn.org/stable/index.html)\n",
    "- matplotlib: [https://matplotlib.org/](https://matplotlib.org/)\n",
    "- numpy: [https://numpy.org/](https://numpy.org/)\n",
    "- pytorch: [https://pytorch.org/docs/stable/nn.html](https://pytorch.org/docs/stable/nn.html)\n",
    "\n",
    "Instructions d'installation dans un environnement conda, si vous voulez utiliser votre propre ordinateur (inutile de suivre ces instructions sur les machines de la salle info).\n",
    "\n",
    "- Créer un nouvel environnement, appelé `sd3` (vous avez besoin d'avoir anaconda ou miniconda installé)\n",
    "```\n",
    "conda create -n sd3 python=3.9\n",
    "```\n",
    "- Activer l'environnement\n",
    "```\n",
    "conda activate sd3\n",
    "```\n",
    "- Installer les librairies requises\n",
    "```\n",
    "conda install -c conda-forge jupyterlab matplotlib scikit-learn torch torchvision\n",
    "```"
   ]
  },
  {
   "cell_type": "code",
   "execution_count": null,
   "id": "6b0e34e8",
   "metadata": {},
   "outputs": [],
   "source": [
    "# Imports\n",
    "import numpy as np\n",
    "import matplotlib.pyplot as plt\n",
    "from matplotlib.colors import ListedColormap\n",
    "import torch\n",
    "import torch.nn as nn\n",
    "import torch.nn.functional as F\n",
    "from torch.utils.data import DataLoader\n",
    "from torchvision import datasets\n",
    "from torchvision.transforms import ToTensor, Lambda"
   ]
  },
  {
   "cell_type": "code",
   "execution_count": null,
   "id": "60dac0b2",
   "metadata": {},
   "outputs": [],
   "source": [
    "# Une interaction entre conda et pytorch peut causer une erreur, qu'on évite avec le code suivant  \n",
    "import os    \n",
    "os.environ['KMP_DUPLICATE_LIB_OK']='True'"
   ]
  },
  {
   "cell_type": "markdown",
   "id": "b472a92d",
   "metadata": {},
   "source": [
    "PyTorch est une librairie python dédiée au Machine Learning, en particulier avec des réseaux de neurones. Elle comprend beaucoup plus de fonctions liées aux réseaux que scikit-learn.\n",
    "\n",
    "En particulier, `torch.nn` contient des implémentations de nombreux types de couches de réseaux.\n",
    "- `nn.Conv2d` : couche convolutive\n",
    "- `nn.Linear` : transformation linéaire\n",
    "- `nn.MaxPool2d` : couche de pooling\n",
    "\n",
    "Voir la liste des couches: [https://pytorch.org/docs/stable/nn.html](https://pytorch.org/docs/stable/nn.html)\n",
    "\n",
    "`torch.nn.functional` (que l'on a importé sous le nom F) contient des fonctions utiles comme des fonctions d'activation, par exemple `F.relu`."
   ]
  },
  {
   "cell_type": "markdown",
   "id": "f2ac7ee5",
   "metadata": {},
   "source": [
    "### Construire un réseau de neurones\n",
    "\n",
    "On crée une classe `Net` qui représentera notre réseau."
   ]
  },
  {
   "cell_type": "code",
   "execution_count": null,
   "id": "2e078a79",
   "metadata": {},
   "outputs": [],
   "source": [
    "class Net(nn.Module):\n",
    "    def __init__(self):\n",
    "        super(Net, self).__init__()\n",
    "        # Ici on definit des couches\n",
    "        TODO\n",
    "        \n",
    "    def forward(self, x):\n",
    "        #Ici on indique dans quel ordre on applique les couches aux donnees\n",
    "        TODO"
   ]
  },
  {
   "cell_type": "markdown",
   "id": "ed6992f3",
   "metadata": {},
   "source": [
    "On définit des couches dans la méthode `__init__` de notre classe: on doit lister ici toutes les couches qui ont des paramètres à optimiser.\n",
    "\n",
    "La méthode `forward` indique au réseau quelles opérations appliquer aux données.\n",
    "\n",
    "Voir un exemple complet ci-dessous :"
   ]
  },
  {
   "cell_type": "code",
   "execution_count": null,
   "id": "de184d68",
   "metadata": {},
   "outputs": [],
   "source": [
    "class Net(nn.Module):\n",
    "    def __init__(self):\n",
    "        super(Net, self).__init__()\n",
    "        # On definit des couches\n",
    "        # couche convolutive avec 1 image en entree, 32 images en sortie, noyau de taille 3, stride 1\n",
    "        self.conv1 = nn.Conv2d(1, 32, 3, 1)\n",
    "        # couche lineaire, comme dans un MLP\n",
    "        self.fc1 = nn.Linear(5408, 100)\n",
    "        self.fc2 = nn.Linear(100, 10)\n",
    "        \n",
    "    # Cette fonction indique comment une donnee x est transformee par le reseau\n",
    "    def forward(self, x):\n",
    "        # On utilise la couche conv1 definie plus haut\n",
    "        x = self.conv1(x)\n",
    "        # On applique ensuite une fonction d'activation relu\n",
    "        x = F.relu(x)\n",
    "        # pooling\n",
    "        x = F.max_pool2d(x, 2)\n",
    "        # on applatit l'image x pour avoir un vecteur\n",
    "        x = torch.flatten(x, 1)\n",
    "        # couche lineaire, puis activation\n",
    "        x = self.fc1(x)\n",
    "        x = F.relu(x)\n",
    "        # derniere couche lineaire\n",
    "        x = self.fc2(x)\n",
    "        # sortie du reseau\n",
    "        output = F.softmax(x, dim=1)\n",
    "        return output\n",
    "    \n",
    "    \n",
    "my_nn = Net()\n",
    "print(my_nn)"
   ]
  },
  {
   "cell_type": "markdown",
   "id": "b2eceb8c",
   "metadata": {},
   "source": [
    "- Décrire la structure du réseau de l'exemple (par exemple avec un schéma)."
   ]
  },
  {
   "cell_type": "code",
   "execution_count": null,
   "id": "0d266abf",
   "metadata": {},
   "outputs": [],
   "source": []
  },
  {
   "cell_type": "markdown",
   "id": "953cded9",
   "metadata": {},
   "source": [
    "La définition de notre réseau peut ne pas être valide. Si les dimensions des couches ne sont pas spécifiées correctement, le code ci-dessus ne retournera pas d'erreur, mais le réseau ne sera pas utilisable. Pour le tester, on peut observer la sortie du réseau sur de fausses données:"
   ]
  },
  {
   "cell_type": "code",
   "execution_count": null,
   "id": "8c5a53ed",
   "metadata": {},
   "outputs": [],
   "source": [
    "# On cree une image aleatoire 28*28\n",
    "random_data = torch.rand((1, 1, 28, 28))\n",
    "\n",
    "my_nn = Net() # on cree un reseau de classe Net\n",
    "result = my_nn(random_data) # on calcule la sortie du reseau sur la donnee aleatoire\n",
    "print (result)"
   ]
  },
  {
   "cell_type": "markdown",
   "id": "21a5a179",
   "metadata": {},
   "source": [
    "- Construire un perceptron multi-couches à deux couches, avec des fonctions d'activation ReLU.\n",
    "- Construire un réseau avec deux couches convolutives, chacune suivie d'une fonction d'activation ReLU et d'une couche de pooling. Après ces couches, on utilisera au moins deux couches linéaires (couches de MLP).\n"
   ]
  },
  {
   "cell_type": "code",
   "execution_count": null,
   "id": "33772a45",
   "metadata": {},
   "outputs": [],
   "source": []
  },
  {
   "cell_type": "code",
   "execution_count": null,
   "id": "061292c2",
   "metadata": {},
   "outputs": [],
   "source": []
  },
  {
   "cell_type": "code",
   "execution_count": null,
   "id": "7db14d4d",
   "metadata": {},
   "outputs": [],
   "source": []
  },
  {
   "cell_type": "markdown",
   "id": "e651d774",
   "metadata": {},
   "source": [
    "### Construire un jeu de données\n",
    "\n",
    "On va utiliser un jeu de donnees appelé FashionMNIST, qui contient des images $28\\times 28$ de vêtements, avec 10 classes (types de vêtements). "
   ]
  },
  {
   "cell_type": "code",
   "execution_count": null,
   "id": "02f59912",
   "metadata": {},
   "outputs": [],
   "source": [
    "training_data = datasets.FashionMNIST(\n",
    "    root=\"data\",\n",
    "    train=True,\n",
    "    download=True,\n",
    "    transform=ToTensor()\n",
    ")\n",
    "\n",
    "val_data = datasets.FashionMNIST(\n",
    "    root=\"data\",\n",
    "    train=False,\n",
    "    download=True,\n",
    "    transform=ToTensor()\n",
    ")"
   ]
  },
  {
   "cell_type": "markdown",
   "id": "b12def80",
   "metadata": {},
   "source": [
    "On peut visualiser les données avec le code suivant:"
   ]
  },
  {
   "cell_type": "code",
   "execution_count": null,
   "id": "35a8dd5b",
   "metadata": {},
   "outputs": [],
   "source": [
    "labels_map = {\n",
    "    0: \"T-Shirt\",\n",
    "    1: \"Trouser\",\n",
    "    2: \"Pullover\",\n",
    "    3: \"Dress\",\n",
    "    4: \"Coat\",\n",
    "    5: \"Sandal\",\n",
    "    6: \"Shirt\",\n",
    "    7: \"Sneaker\",\n",
    "    8: \"Bag\",\n",
    "    9: \"Ankle Boot\",\n",
    "}\n",
    "\n",
    "figure = plt.figure(figsize=(8, 8))\n",
    "cols, rows = 3, 3\n",
    "for i in range(1, cols * rows + 1):\n",
    "    sample_idx = torch.randint(len(training_data), size=(1,)).item()\n",
    "    img, label = training_data[sample_idx]\n",
    "    figure.add_subplot(rows, cols, i)\n",
    "    plt.title(labels_map[label])\n",
    "    plt.axis(\"off\")\n",
    "    plt.imshow(img.squeeze(), cmap=\"gray\")\n",
    "plt.show()"
   ]
  },
  {
   "cell_type": "code",
   "execution_count": null,
   "id": "13416f70",
   "metadata": {},
   "outputs": [],
   "source": []
  },
  {
   "cell_type": "markdown",
   "id": "aab13fd3",
   "metadata": {},
   "source": [
    "PyTorch utilise une classe `DataLoader` pour gérer les données (c'est à dire pour tirer des exemples aléatoirement, ou faire une boucle sur les données, etc.)."
   ]
  },
  {
   "cell_type": "code",
   "execution_count": null,
   "id": "e8c1bced",
   "metadata": {},
   "outputs": [],
   "source": [
    "train_dataloader = DataLoader(training_data, batch_size=64, shuffle=True)\n",
    "val_dataloader = DataLoader(val_data, batch_size=64, shuffle=True)"
   ]
  },
  {
   "cell_type": "markdown",
   "id": "2bd383cb",
   "metadata": {},
   "source": [
    "L'objet `train_dataloader`, quand on l'appelle avec `train_features, train_labels = next(iter(train_dataloader))`, renvoie un groupe de 64 images avec leurs étiquettes (le nombre 64 est spécifié dans `batch_size`). Quand on arrive au bout des exemples, l'argument `shuffle=True` lui indique de mélanger les données.\n",
    "\n",
    "\n",
    "### Entrainer un réseau\n",
    "\n",
    "\n",
    "Avant de pouvoir entrainer notre classeur, on doit choisir certains hyper-paramètres:\n",
    "- nombre d'époques\n",
    "- taille d'un ``batch'': nombre d'exemples utilisés entre chaque mise à jour des poids\n",
    "- taille d'un pas de gradient"
   ]
  },
  {
   "cell_type": "code",
   "execution_count": null,
   "id": "c74f02c3",
   "metadata": {},
   "outputs": [],
   "source": [
    "epochs = 5\n",
    "batch_size = 64\n",
    "learning_rate = 1e-3"
   ]
  },
  {
   "cell_type": "markdown",
   "id": "f25d7cfe",
   "metadata": {},
   "source": [
    "Entrainer un réseau dans PyTorch est plus compliqué que dans scikit_learn, mais on a un contrôle plus fin de ce que l'on fait. Il faut d'abord choisir la fonction de perte utilisée pendant l'apprentissage (on va choisir les poids pour essayer de minimiser cette fonction), par exemple"
   ]
  },
  {
   "cell_type": "code",
   "execution_count": null,
   "id": "d00f6588",
   "metadata": {},
   "outputs": [],
   "source": [
    "loss_fn = nn.CrossEntropyLoss()"
   ]
  },
  {
   "cell_type": "markdown",
   "id": "bc8df8ca",
   "metadata": {},
   "source": [
    "Il faut aussi choisir l'algorithme d'optimisation utilisé, c'est à dire la manière de changer les poids au cours de l'apprentissage. On peut par exemple utiliser l'algorithme de gradient stochastique (SGD) comme dans le cours"
   ]
  },
  {
   "cell_type": "code",
   "execution_count": null,
   "id": "e4c539ce",
   "metadata": {},
   "outputs": [],
   "source": [
    "optimizer = torch.optim.SGD(my_nn.parameters(), lr=learning_rate)"
   ]
  },
  {
   "cell_type": "markdown",
   "id": "0e82885b",
   "metadata": {},
   "source": [
    "Les fonctions suivantes implémentent une époque d'apprentissage d'une part, et le calcul de l'erreur de validation d'autre part:"
   ]
  },
  {
   "cell_type": "code",
   "execution_count": null,
   "id": "89de7094",
   "metadata": {},
   "outputs": [],
   "source": [
    "def train_loop(dataloader, model, loss_fn, optimizer):\n",
    "    size = len(dataloader.dataset)\n",
    "    for batch, (X, y) in enumerate(dataloader):\n",
    "        # On calcule la prediction du modele et sa perte\n",
    "        pred = model(X)\n",
    "        loss = loss_fn(pred, y)\n",
    "        # On calcule le gradient et on met a jour les poids\n",
    "        optimizer.zero_grad()\n",
    "        loss.backward()\n",
    "        optimizer.step()\n",
    "        if batch % 100 == 0:\n",
    "            loss, current = loss.item(), batch * len(X)\n",
    "            print(f\"loss: {loss:>7f} [{current:>5d}/{size:>5d}]\")\n",
    "\n",
    "def val_loop(dataloader, model, loss_fn):\n",
    "    size = len(dataloader.dataset)\n",
    "    num_batches = len(dataloader)\n",
    "    val_loss, correct = 0, 0\n",
    "    with torch.no_grad():\n",
    "        for X, y in dataloader:\n",
    "            pred = model(X)\n",
    "            val_loss += loss_fn(pred, y).item()\n",
    "            correct += (pred.argmax(1) == y).type(torch.float).sum().item()\n",
    "    val_loss /= num_batches\n",
    "    correct /= size\n",
    "    print(f\"Validation Error: \\n Accuracy: {(100*correct):>0.1f}%, Avg loss: {val_loss:>8f} \\n\")"
   ]
  },
  {
   "cell_type": "markdown",
   "id": "cab900fa",
   "metadata": {},
   "source": [
    "- Expliquer ce que font ces deux fonctions"
   ]
  },
  {
   "cell_type": "code",
   "execution_count": null,
   "id": "ad037357",
   "metadata": {},
   "outputs": [],
   "source": []
  },
  {
   "cell_type": "markdown",
   "id": "00782a06",
   "metadata": {},
   "source": [
    "On peut maintenant entrainer le reseau:"
   ]
  },
  {
   "cell_type": "code",
   "execution_count": null,
   "id": "c40dbcb0",
   "metadata": {
    "scrolled": true
   },
   "outputs": [],
   "source": [
    "for t in range(epochs):\n",
    "    print(f\"Epoch {t+1}\\n-------------------------------\")\n",
    "    train_loop(train_dataloader, my_nn, loss_fn, optimizer)\n",
    "    val_loop(val_dataloader, my_nn, loss_fn)\n",
    "print(\"Done!\")"
   ]
  },
  {
   "cell_type": "markdown",
   "id": "29178b50",
   "metadata": {},
   "source": [
    "- Reproduire et entrainer le réseau LeNet 5.\n",
    "- Afficher des courbes de taux de succès d’entrainement et de validation d'un réseau de neurones convolutif.\n",
    "- Observer la sortie de la première couche du réseau sur quelques exemples.\n",
    "- Construire un réseau ayant la meilleure performance possible sur l'ensemble de validation (en ne l'entrainant que sur l'ensemble d'entrainement)."
   ]
  },
  {
   "cell_type": "code",
   "execution_count": null,
   "id": "94dec60c",
   "metadata": {},
   "outputs": [],
   "source": []
  },
  {
   "cell_type": "code",
   "execution_count": null,
   "id": "4cc3371d",
   "metadata": {},
   "outputs": [],
   "source": []
  },
  {
   "cell_type": "code",
   "execution_count": null,
   "id": "e0c7e131",
   "metadata": {},
   "outputs": [],
   "source": []
  },
  {
   "cell_type": "code",
   "execution_count": null,
   "id": "597eb393",
   "metadata": {},
   "outputs": [],
   "source": []
  },
  {
   "cell_type": "code",
   "execution_count": null,
   "id": "0d668b0b",
   "metadata": {},
   "outputs": [],
   "source": []
  },
  {
   "cell_type": "code",
   "execution_count": null,
   "id": "f05af458",
   "metadata": {},
   "outputs": [],
   "source": []
  },
  {
   "cell_type": "code",
   "execution_count": null,
   "id": "090a60fb",
   "metadata": {},
   "outputs": [],
   "source": []
  },
  {
   "cell_type": "code",
   "execution_count": null,
   "id": "94707b93",
   "metadata": {},
   "outputs": [],
   "source": []
  }
 ],
 "metadata": {
  "kernelspec": {
   "display_name": "Python 3 (ipykernel)",
   "language": "python",
   "name": "python3"
  },
  "language_info": {
   "codemirror_mode": {
    "name": "ipython",
    "version": 3
   },
   "file_extension": ".py",
   "mimetype": "text/x-python",
   "name": "python",
   "nbconvert_exporter": "python",
   "pygments_lexer": "ipython3",
   "version": "3.9.16"
  }
 },
 "nbformat": 4,
 "nbformat_minor": 5
}
