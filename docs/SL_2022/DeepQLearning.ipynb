{
 "cells": [
  {
   "cell_type": "markdown",
   "metadata": {
    "id": "2j_no2BuvPUE"
   },
   "source": [
    "# Tutorial - Deep Q-Learning \n",
    "\n",
    "Deep Q-Learning uses a neural network to approximate $Q$ functions. Hence, we usually refer to this algorithm as DQN (for *deep Q network*).\n",
    "\n",
    "The parameters of the neural network are denoted by $\\theta$. \n",
    "*   As input, the network takes a state $s$,\n",
    "*   As output, the network returns $Q(s, a, \\theta)$, the value of each action $a$ in state $s$, according to the parameters $\\theta$.\n",
    "\n",
    "\n",
    "The goal of Deep Q-Learning is to learn the parameters $\\theta$ so that $Q(s, a, \\theta)$ approximates well the optimal $Q$-function $Q^*(s, a)$. \n",
    "\n",
    "In addition to the network with parameters $\\theta$, the algorithm keeps another network with the same architecture and parameters $\\theta^-$, called **target network**.\n",
    "\n",
    "The algorithm works as follows:\n",
    "\n",
    "1.   At each time $t$, the agent is in state $s_t$ and has observed the transitions $(s_i, a_i, r_i, s_i')_{i=1}^{t-1}$, which are stored in a **replay buffer**.\n",
    "\n",
    "2.  Choose action $a_t = \\arg\\max_a Q(s_t, a)$ with probability $1-\\varepsilon_t$, and $a_t$=random action with probability $\\varepsilon_t$. \n",
    "\n",
    "3. Take action $a_t$, observe reward $r_t$ and next state $s_t'$.\n",
    "\n",
    "4. Add transition $(s_t, a_t, r_t, s_t')$ to the **replay buffer**.\n",
    "\n",
    "4.  Sample a minibatch $\\mathcal{B}$ containing $B$ transitions from the replay buffer. Using this minibatch, we define the loss:\n",
    "\n",
    "$$\n",
    "L(\\theta) = \\sum_{(s_i, a_i, r_i, s_i') \\in \\mathcal{B}}\n",
    "\\left[\n",
    "Q(s_i, a_i, \\theta) -  y_i\n",
    "\\right]^2\n",
    "$$\n",
    "where the $y_i$ are the **targets** computed with the **target network** $\\theta^-$:\n",
    "\n",
    "$$\n",
    "y_i = r_i + \\gamma \\max_{a'} Q(s_i', a', \\theta^-).\n",
    "$$\n",
    "\n",
    "5. Update the parameters $\\theta$ to minimize the loss, e.g., with gradient descent (**keeping $\\theta^-$ fixed**): \n",
    "$$\n",
    "\\theta \\gets \\theta - \\eta \\nabla_\\theta L(\\theta)\n",
    "$$\n",
    "where $\\eta$ is the optimization learning rate. \n",
    "\n",
    "6. Every $N$ transitions ($t\\mod N$ = 0), update target parameters: $\\theta^- \\gets \\theta$.\n",
    "\n",
    "7. $t \\gets t+1$. Stop if $t = T$, otherwise go to step 2."
   ]
  },
  {
   "cell_type": "markdown",
   "metadata": {
    "id": "HhKHif__t9OD"
   },
   "source": [
    "# Setup"
   ]
  },
  {
   "cell_type": "code",
   "execution_count": 1,
   "metadata": {
    "id": "VWBRfwosfA9f"
   },
   "outputs": [],
   "source": [
    "# Imports\n",
    "import torch\n",
    "import torch.nn as nn\n",
    "import torch.nn.functional as F\n",
    "import torch.optim as optim\n",
    "import numpy as np\n",
    "import random\n",
    "from copy import deepcopy\n",
    "from gym.wrappers import Monitor\n",
    "import gym"
   ]
  },
  {
   "cell_type": "code",
   "execution_count": 2,
   "metadata": {},
   "outputs": [
    {
     "name": "stderr",
     "output_type": "stream",
     "text": [
      "The system cannot find the path specified.\n"
     ]
    }
   ],
   "source": [
    "# Create directory for saving videos\n",
    "!mkdir videos > /dev/null 2>&1\n",
    "\n",
    "# The following code is will be used to visualize the environments.\n",
    "import base64\n",
    "from IPython import display as ipythondisplay\n",
    "from IPython.display import clear_output\n",
    "from pathlib import Path\n",
    "\n",
    "def show_video(filename=None, directory='./videos'):\n",
    "    \"\"\"\n",
    "    Either show all videos in a directory (if filename is None) or \n",
    "    show video corresponding to filename.\n",
    "    \"\"\"\n",
    "    html = []\n",
    "    if filename is not None:\n",
    "        files = Path('./').glob(filename)\n",
    "    else:\n",
    "        files = Path(directory).glob(\"*.mp4\")\n",
    "    for mp4 in files:\n",
    "        print(mp4)\n",
    "        video_b64 = base64.b64encode(mp4.read_bytes())\n",
    "        html.append('''<video alt=\"{}\" autoplay \n",
    "                      loop controls style=\"height: 400px;\">\n",
    "                      <source src=\"data:video/mp4;base64,{}\" type=\"video/mp4\" />\n",
    "                 </video>'''.format(mp4, video_b64.decode('ascii')))\n",
    "    ipythondisplay.display(ipythondisplay.HTML(data=\"<br>\".join(html)))"
   ]
  },
  {
   "cell_type": "code",
   "execution_count": 3,
   "metadata": {
    "id": "FLLwJLQlrTxo"
   },
   "outputs": [],
   "source": [
    "# Random number generator\n",
    "import rlberry.seeding as seeding \n",
    "seeder = seeding.Seeder(456)\n",
    "rng = seeder.rng"
   ]
  },
  {
   "cell_type": "markdown",
   "metadata": {
    "id": "528oqsgefIFl"
   },
   "source": [
    "# 1. Define the parameters"
   ]
  },
  {
   "cell_type": "code",
   "execution_count": 4,
   "metadata": {
    "colab": {
     "base_uri": "https://localhost:8080/"
    },
    "id": "CtExtR4dfMbm",
    "outputId": "64f36e7b-b953-4442-bc88-9d9fe6b90ef7"
   },
   "outputs": [],
   "source": [
    "# Environment\n",
    "env = gym.make(\"CartPole-v0\")\n",
    "\n",
    "# Discount factor\n",
    "GAMMA = 0.99\n",
    "\n",
    "# Batch size\n",
    "BATCH_SIZE = 128\n",
    "# Capacity of the replay buffer\n",
    "BUFFER_CAPACITY = 10000\n",
    "# Update target net every ... episodes\n",
    "UPDATE_TARGET_EVERY = 20\n",
    "\n",
    "# Initial value of epsilon\n",
    "EPSILON_START = 1.0\n",
    "# Parameter to decrease epsilon\n",
    "DECREASE_EPSILON = 200\n",
    "# Minimum value of epislon\n",
    "EPSILON_MIN = 0.05\n",
    "\n",
    "# Number of training episodes\n",
    "N_EPISODES = 500\n",
    "\n",
    "# Learning rate\n",
    "LEARNING_RATE = 0.1"
   ]
  },
  {
   "cell_type": "markdown",
   "metadata": {
    "id": "6g16Je-dhM2Q"
   },
   "source": [
    "# 2. Define the replay buffer"
   ]
  },
  {
   "cell_type": "code",
   "execution_count": 5,
   "metadata": {
    "id": "Jvh82br9hMNt"
   },
   "outputs": [],
   "source": [
    "class ReplayBuffer:\n",
    "    def __init__(self, capacity):\n",
    "        self.capacity = capacity\n",
    "        self.memory = []\n",
    "        self.position = 0\n",
    "\n",
    "    def push(self, state, action, reward, next_state, done):\n",
    "        \"\"\"Saves a transition.\"\"\"\n",
    "        if len(self.memory) < self.capacity:\n",
    "            self.memory.append(None)\n",
    "        self.memory[self.position] = (state, action, reward, next_state, done)\n",
    "        self.position = (self.position + 1) % self.capacity\n",
    "\n",
    "    def sample(self, batch_size):\n",
    "        return rng.choice(self.memory, batch_size).tolist()\n",
    "\n",
    "\n",
    "    def __len__(self):\n",
    "        return len(self.memory)\n",
    "\n",
    "# create instance of replay buffer\n",
    "replay_buffer = ReplayBuffer(BUFFER_CAPACITY)"
   ]
  },
  {
   "cell_type": "markdown",
   "metadata": {
    "id": "UCc9WZppi92W"
   },
   "source": [
    "# 3. Define the neural network architecture, objective and optimizer"
   ]
  },
  {
   "cell_type": "code",
   "execution_count": 6,
   "metadata": {
    "id": "sdNz3Jrwi9iS"
   },
   "outputs": [],
   "source": [
    "class Net(nn.Module):\n",
    "    \"\"\"\n",
    "    Basic neural net.\n",
    "    \"\"\"\n",
    "    def __init__(self, obs_size, hidden_size, n_actions):\n",
    "        super(Net, self).__init__()\n",
    "        self.net = nn.Sequential(\n",
    "            nn.Linear(obs_size, hidden_size),\n",
    "            nn.ReLU(),\n",
    "            nn.Linear(hidden_size, n_actions)\n",
    "        )\n",
    "\n",
    "    def forward(self, x):\n",
    "        return self.net(x)"
   ]
  },
  {
   "cell_type": "markdown",
   "metadata": {},
   "source": [
    "Describe the shape of that network."
   ]
  },
  {
   "cell_type": "code",
   "execution_count": 11,
   "metadata": {
    "id": "NI9hFJ28jLZ_"
   },
   "outputs": [],
   "source": [
    "# create network and target network\n",
    "hidden_size = 128\n",
    "obs_size = env.observation_space.shape[0]\n",
    "n_actions = env.action_space.n\n",
    "\n",
    "q_net = Net(obs_size, hidden_size, n_actions)\n",
    "target_net = Net(obs_size, hidden_size, n_actions)\n",
    "\n",
    "# objective and optimizer\n",
    "objective = nn.MSELoss()  # Mean Square Error loss\n",
    "#objective = nn.SmoothL1Loss()\n",
    "optimizer = optim.Adam(params=q_net.parameters(), lr=LEARNING_RATE)  # Optimizer for the parameters of q_net using Adam"
   ]
  },
  {
   "cell_type": "markdown",
   "metadata": {
    "id": "xnR8nfoSjZjL"
   },
   "source": [
    "# 4. Implement Deep Q-Learning"
   ]
  },
  {
   "cell_type": "code",
   "execution_count": 12,
   "metadata": {
    "id": "z6fT8cKdjmTZ"
   },
   "outputs": [],
   "source": [
    "#\n",
    "#  Some useful functions\n",
    "#\n",
    "\n",
    "def get_q(states):\n",
    "    \"\"\"\n",
    "    Compute Q function for a list of states, for q_net\n",
    "    \"\"\"\n",
    "    with torch.no_grad():\n",
    "        states_v = torch.FloatTensor([states])\n",
    "        output = q_net.forward(states_v).data.numpy()  # shape (1, len(states), n_actions)\n",
    "    return output[0, :, :]  # shape (len(states), n_actions)\n",
    "\n",
    "def eval_dqn(n_sim=5):\n",
    "    \"\"\"   \n",
    "    Monte Carlo evaluation of DQN agent.\n",
    "\n",
    "    Repeat n_sim times:\n",
    "        * Run the DQN policy until the environment reaches a terminal state (= one episode)\n",
    "        * Compute the sum of rewards in this episode\n",
    "        * Store the sum of rewards in the episode_rewards array.\n",
    "    \"\"\"\n",
    "    env_copy = deepcopy(env)\n",
    "    episode_rewards = np.zeros(n_sim)\n",
    "\n",
    "    for ii in range(n_sim):\n",
    "        state = env_copy.reset()\n",
    "        done = False \n",
    "        while not done:\n",
    "            action = choose_action(state, 0.0)\n",
    "            next_state, reward, done, _ = env_copy.step(action)\n",
    "            episode_rewards[ii] += reward\n",
    "            state = next_state\n",
    "    return episode_rewards"
   ]
  },
  {
   "cell_type": "code",
   "execution_count": 13,
   "metadata": {
    "id": "OMspDNntkIoe"
   },
   "outputs": [],
   "source": [
    "def choose_action(state, epsilon):\n",
    "    \"\"\"\n",
    "    ** TO BE IMPLEMENTED **\n",
    "    \n",
    "    Return action according to an epsilon-greedy exploration policy\n",
    "    \"\"\"\n",
    "    return 0\n",
    "    \n",
    "\n",
    "def update(state, action, reward, next_state, done):\n",
    "    \"\"\"\n",
    "    ** TO BE COMPLETED **\n",
    "    \"\"\"\n",
    "    \n",
    "    # add data to replay buffer\n",
    "    replay_buffer.push(state, action, reward, next_state, done)\n",
    "    \n",
    "    if len(replay_buffer) < BATCH_SIZE:\n",
    "        return np.inf\n",
    "    \n",
    "    # get batch\n",
    "    transitions = replay_buffer.sample(BATCH_SIZE)\n",
    "    \n",
    "    \"\"\"\n",
    "    Compute loss - TO BE IMPLEMENTED!\n",
    "    \n",
    "    Do not use get_q here: it contains a \"no_grad\" instruction which disables gradient propagation... but\n",
    "    here we will want to compute gradients to optimize the model.\n",
    "    Potentially useful methods: torch.tensor, torch.gather, requires_grad\n",
    "    \"\"\"\n",
    "    values  = torch.zeros(BATCH_SIZE, requires_grad = True)   # to be computed using batch\n",
    "    targets = torch.zeros(BATCH_SIZE, requires_grad = True)   # to be computed using batch\n",
    "    \n",
    "    loss = objective(values, targets)\n",
    "     \n",
    "    # Optimize the model\n",
    "    optimizer.zero_grad()\n",
    "    loss.backward()\n",
    "    # Here the gradient of all parameters in the network have been computed. If your implementation is correct,\n",
    "    # the following line should print something which is not None:\n",
    "    # print(q_net.net[2].weight.grad)\n",
    "    optimizer.step()\n",
    "    \n",
    "    return loss.data.numpy()"
   ]
  },
  {
   "cell_type": "code",
   "execution_count": 14,
   "metadata": {
    "colab": {
     "base_uri": "https://localhost:8080/"
    },
    "id": "QIhpKPhkkU4W",
    "outputId": "93f23393-0bc4-48bf-d315-1fbc1d94f7c2"
   },
   "outputs": [
    {
     "name": "stderr",
     "output_type": "stream",
     "text": [
      "C:\\Users\\remyd\\AppData\\Local\\Temp\\ipykernel_12108\\4243229017.py:15: VisibleDeprecationWarning: Creating an ndarray from ragged nested sequences (which is a list-or-tuple of lists-or-tuples-or ndarrays with different lengths or shapes) is deprecated. If you meant to do this, you must specify 'dtype=object' when creating the ndarray.\n",
      "  return rng.choice(self.memory, batch_size).tolist()\n"
     ]
    },
    {
     "name": "stdout",
     "output_type": "stream",
     "text": [
      "episode = 5 , reward =  9.4\n",
      "episode = 10 , reward =  8.8\n",
      "episode = 15 , reward =  9.2\n",
      "episode = 20 , reward =  8.8\n",
      "episode = 25 , reward =  9.6\n",
      "episode = 30 , reward =  9.4\n",
      "episode = 35 , reward =  8.8\n",
      "episode = 40 , reward =  9.8\n",
      "episode = 45 , reward =  10.0\n",
      "episode = 50 , reward =  9.8\n",
      "episode = 55 , reward =  9.4\n",
      "episode = 60 , reward =  9.6\n",
      "episode = 65 , reward =  112.4\n",
      "episode = 70 , reward =  26.0\n",
      "episode = 75 , reward =  9.8\n",
      "episode = 80 , reward =  53.0\n",
      "episode = 85 , reward =  116.0\n",
      "episode = 90 , reward =  123.8\n",
      "episode = 95 , reward =  97.4\n",
      "episode = 100 , reward =  105.6\n",
      "episode = 105 , reward =  149.0\n",
      "episode = 110 , reward =  161.6\n",
      "episode = 115 , reward =  177.6\n",
      "episode = 120 , reward =  162.4\n",
      "episode = 125 , reward =  175.0\n",
      "episode = 130 , reward =  193.2\n",
      "episode = 135 , reward =  198.8\n",
      "episode = 140 , reward =  199.8\n",
      "\n",
      "mean reward after training =  199.75\n"
     ]
    }
   ],
   "source": [
    "\n",
    "#\n",
    "# Train\n",
    "# \n",
    "\n",
    "EVAL_EVERY = 5\n",
    "REWARD_THRESHOLD = 199\n",
    "\n",
    "def train():\n",
    "    state = env.reset()\n",
    "    epsilon = EPSILON_START\n",
    "    ep = 0\n",
    "    total_time = 0\n",
    "    while ep < N_EPISODES:\n",
    "        action = choose_action(state, epsilon)\n",
    "\n",
    "        # take action and update replay buffer and networks\n",
    "        next_state, reward, done, _ = env.step(action)\n",
    "        loss = update(state, action, reward, next_state, done)\n",
    "\n",
    "        # update state\n",
    "        state = next_state\n",
    "\n",
    "        # end episode if done\n",
    "        if done:\n",
    "            state = env.reset()\n",
    "            ep   += 1\n",
    "            if ( (ep+1)% EVAL_EVERY == 0):\n",
    "                rewards = eval_dqn()\n",
    "                print(\"episode =\", ep+1, \", reward = \", np.mean(rewards))\n",
    "                if np.mean(rewards) >= REWARD_THRESHOLD:\n",
    "                    break\n",
    "\n",
    "            # update target network\n",
    "            if ep % UPDATE_TARGET_EVERY == 0:\n",
    "                target_net.load_state_dict(q_net.state_dict())\n",
    "                # For debugging, it might be useful to print the parameters of the network once in a while\n",
    "                #print(target_net.state_dict())\n",
    "            # decrease epsilon\n",
    "            epsilon = EPSILON_MIN + (EPSILON_START - EPSILON_MIN) * \\\n",
    "                            np.exp(-1. * ep / DECREASE_EPSILON )    \n",
    "\n",
    "        total_time += 1\n",
    "\n",
    "# Run the training loop\n",
    "train()\n",
    "\n",
    "# Evaluate the final policy\n",
    "rewards = eval_dqn(20)\n",
    "print(\"\")\n",
    "print(\"mean reward after training = \", np.mean(rewards))"
   ]
  },
  {
   "cell_type": "markdown",
   "metadata": {
    "id": "c8QZwuvjgrMm"
   },
   "source": [
    "# Visualize the DQN policy"
   ]
  },
  {
   "cell_type": "code",
   "execution_count": 15,
   "metadata": {
    "colab": {
     "base_uri": "https://localhost:8080/",
     "height": 474
    },
    "id": "FGcGwOcEfzPz",
    "outputId": "3aa22829-9b5c-4308-cd1a-aadb1a629fb0"
   },
   "outputs": [
    {
     "name": "stderr",
     "output_type": "stream",
     "text": [
      "C:\\Users\\remyd\\miniconda3\\envs\\test\\lib\\site-packages\\pyglet\\image\\codecs\\wic.py:406: UserWarning: [WinError -2147417850] Cannot change thread mode after it is set\n",
      "  warnings.warn(str(err))\n"
     ]
    },
    {
     "name": "stdout",
     "output_type": "stream",
     "text": [
      "videos\\openaigym.video.0.12108.video000000.mp4\n"
     ]
    },
    {
     "data": {
      "text/html": [
       "<video alt=\"videos\\openaigym.video.0.12108.video000000.mp4\" autoplay \n",
       "                      loop controls style=\"height: 400px;\">\n",
       "                      <source src=\"data:video/mp4;base64,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\" type=\"video/mp4\" />\n",
       "                 </video>"
      ],
      "text/plain": [
       "<IPython.core.display.HTML object>"
      ]
     },
     "metadata": {},
     "output_type": "display_data"
    }
   ],
   "source": [
    "def render_env(env):\n",
    "  env = deepcopy(env)\n",
    "  env = Monitor(env, './videos', force=True, video_callable=lambda episode: True)\n",
    "  for episode in range(1):\n",
    "    done = False\n",
    "    state = env.reset()\n",
    "    env.render()\n",
    "    while not done:\n",
    "        action = action = choose_action(state, 0.0)\n",
    "        state, reward, done, info = env.step(action)\n",
    "        env.render()\n",
    "    env.close()\n",
    "    show_video()\n",
    "\n",
    "render_env(env)"
   ]
  },
  {
   "cell_type": "code",
   "execution_count": null,
   "metadata": {},
   "outputs": [],
   "source": []
  }
 ],
 "metadata": {
  "colab": {
   "authorship_tag": "ABX9TyP9EbLl6g2dURBpFFjKPouU",
   "collapsed_sections": [],
   "include_colab_link": true,
   "name": "Tutorial_Deep_Q_Learning.ipynb",
   "provenance": []
  },
  "kernelspec": {
   "display_name": "Python 3 (ipykernel)",
   "language": "python",
   "name": "python3"
  },
  "language_info": {
   "codemirror_mode": {
    "name": "ipython",
    "version": 3
   },
   "file_extension": ".py",
   "mimetype": "text/x-python",
   "name": "python",
   "nbconvert_exporter": "python",
   "pygments_lexer": "ipython3",
   "version": "3.9.15"
  }
 },
 "nbformat": 4,
 "nbformat_minor": 1
}
